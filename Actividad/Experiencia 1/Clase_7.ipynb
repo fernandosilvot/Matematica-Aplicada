{
 "cells": [
  {
   "cell_type": "markdown",
   "id": "09bcbde3",
   "metadata": {},
   "source": [
    "Ejemplo 1"
   ]
  },
  {
   "cell_type": "markdown",
   "id": "0ee6921d",
   "metadata": {},
   "source": [
    "Calcular La Sumatoria 250 ∑ i=1 (18.5 +2.5i)"
   ]
  },
  {
   "cell_type": "markdown",
   "id": "01d810d4",
   "metadata": {},
   "source": [
    "#Formula aritmetrica (n/2)*(2*a1+(n-1)*d)  "
   ]
  },
  {
   "cell_type": "code",
   "execution_count": 1,
   "id": "34113c3b",
   "metadata": {},
   "outputs": [
    {
     "name": "stdout",
     "output_type": "stream",
     "text": [
      "250 ∑ i=1 (18.5 + 2.5i)\n",
      ">> 82437.5 o aproximado 82438\n"
     ]
    }
   ],
   "source": [
    "a = 18.5\n",
    "d = 2.5\n",
    "n = 250\n",
    "print(f\"250 ∑ i=1 (18.5 + 2.5i)\\n>> {n/2*(2*a+(n-1)*d)} o aproximado {n/2*(a+a+(n-1)*d):.0f}\") "
   ]
  },
  {
   "cell_type": "markdown",
   "id": "b1037a6a",
   "metadata": {},
   "source": [
    "Ejemplo 2"
   ]
  },
  {
   "cell_type": "markdown",
   "id": "7d63d56e",
   "metadata": {},
   "source": [
    "Calcular la sumatoria 100 ∑ i=61 (61+7i)"
   ]
  },
  {
   "cell_type": "markdown",
   "id": "b5512234",
   "metadata": {},
   "source": [
    "#Formula aritmetica cuando no parte del 1 ((100 ∑ i=1 (61+7i))-(60 ∑ i=1 (61+7i))))"
   ]
  },
  {
   "cell_type": "code",
   "execution_count": 2,
   "id": "72a9d1f4",
   "metadata": {},
   "outputs": [
    {
     "name": "stdout",
     "output_type": "stream",
     "text": [
      "100 ∑ i=61 (61+7i) = 24700.0 o aproximado 24700\n"
     ]
    }
   ],
   "source": [
    "n = 100\n",
    "a = 61\n",
    "d = 7\n",
    "formula1 = (n/2)*(2*a+(n-1)*d)\n",
    "n = 60\n",
    "formula2 = (n/2)*(2*a+(n-1)*d)\n",
    "\n",
    "print(f\"100 ∑ i=61 (61+7i) = {formula1 - formula2} o aproximado {(formula1-formula2):.0f}\")"
   ]
  },
  {
   "cell_type": "markdown",
   "id": "384d816b",
   "metadata": {},
   "source": [
    "Ejemplo 3"
   ]
  },
  {
   "cell_type": "markdown",
   "id": "5e4fb425",
   "metadata": {},
   "source": [
    "Calcular la sumatoria 36 ∑ i=1 (5000*1.06i)"
   ]
  },
  {
   "cell_type": "markdown",
   "id": "dd83a5b8",
   "metadata": {},
   "source": [
    "#Formula geometrica a1*(1-r**n)/(1-r)"
   ]
  },
  {
   "cell_type": "code",
   "execution_count": 3,
   "id": "0ee5a418",
   "metadata": {},
   "outputs": [
    {
     "name": "stdout",
     "output_type": "stream",
     "text": [
      "36 ∑ i=1 (5000+1.06i) = 595604.3333209236 o truncado es 595604\n"
     ]
    }
   ],
   "source": [
    "a = 5000\n",
    "r = 1.06\n",
    "n = 36\n",
    "\n",
    "print(f\"36 ∑ i=1 (5000+1.06i) = {a*(1-r**n)/(1-r)} o truncado es {a*(1-r**n)/(1-r):.0f}\")"
   ]
  },
  {
   "cell_type": "markdown",
   "id": "56657532",
   "metadata": {},
   "source": [
    "Ejemplo 4"
   ]
  },
  {
   "cell_type": "markdown",
   "id": "071d6387",
   "metadata": {},
   "source": [
    "Calcular la sumatoria 80 ∑ i=55 (7500*0.97i)"
   ]
  },
  {
   "cell_type": "markdown",
   "id": "5834bc08",
   "metadata": {},
   "source": [
    "#Formula geometrica cuando no parte del 1 ((80 ∑ i=1 (7500*0.97i))-(54 ∑ i=1 (7500*0.97i))))"
   ]
  },
  {
   "cell_type": "code",
   "execution_count": 4,
   "id": "cbe44c0c",
   "metadata": {},
   "outputs": [
    {
     "name": "stdout",
     "output_type": "stream",
     "text": [
      "80 ∑ i=55 (7500*0.97i) = 26401.48799654591 o truncado es 26401\n"
     ]
    }
   ],
   "source": [
    "a = 7500\n",
    "r = 0.97\n",
    "n = 80\n",
    "formula1 = a*(1-r**n)/(1-r)\n",
    "\n",
    "n = 54\n",
    "formula2 = a*(1-r**n)/(1-r)\n",
    "\n",
    "print(f\"80 ∑ i=55 (7500*0.97i) = {formula1 - formula2} o truncado es {(formula1-formula2):.0f}\")"
   ]
  },
  {
   "cell_type": "markdown",
   "id": "80490281",
   "metadata": {},
   "source": [
    "Ejemplo 5"
   ]
  },
  {
   "cell_type": "markdown",
   "id": "404d87c7",
   "metadata": {},
   "source": [
    "un nuevo canal de youtube registra 50 visitas la primera semana de funcionamiento, registra 66 visitas la segunda, 82 la tercera y asi sucesivamente. Representado por Vi la cantidad de visitas en la semana i,"
   ]
  },
  {
   "cell_type": "markdown",
   "id": "f5af28a0",
   "metadata": {},
   "source": [
    "determine 40 ∑ i=1 Vi"
   ]
  },
  {
   "cell_type": "markdown",
   "id": "e79faaed",
   "metadata": {},
   "source": [
    "#Formula aritmetica n/2*(2*a1+(n-1)*d)"
   ]
  },
  {
   "cell_type": "code",
   "execution_count": 5,
   "id": "20adf833",
   "metadata": {},
   "outputs": [
    {
     "name": "stdout",
     "output_type": "stream",
     "text": [
      "40 ∑ i=1 Vi = 14480.0 o truncado es 14480\n"
     ]
    }
   ],
   "source": [
    "a = 50\n",
    "d = 16\n",
    "n = 40\n",
    "formula1 = n/2*(2*a+(n-1)*d)\n",
    "\n",
    "print(f\"40 ∑ i=1 Vi = {formula1} o truncado es {(formula1):.0f}\")"
   ]
  },
  {
   "cell_type": "markdown",
   "id": "a0d953de",
   "metadata": {},
   "source": [
    "Ejemplo 6"
   ]
  },
  {
   "cell_type": "markdown",
   "id": "9e3749c6",
   "metadata": {},
   "source": [
    "Diego decide ahorrar en dolares para un viaje durante dos años y medio. El primer mes ahorra 900 dolares, el segundo mes 810 dolares, el tercer mes 729 dolares, y asi sucesivamente. Represente por \"Di\" la cantidad de dolares que ahorra Diego en el mes \"i\"."
   ]
  },
  {
   "cell_type": "markdown",
   "id": "578e642b",
   "metadata": {},
   "source": [
    "determine 12 ∑ i=1 Di"
   ]
  },
  {
   "cell_type": "markdown",
   "id": "2341aea7",
   "metadata": {},
   "source": [
    "#Formula geometrica a1*(1-r**n)/(1-r)"
   ]
  },
  {
   "cell_type": "code",
   "execution_count": 6,
   "id": "1cf11d48",
   "metadata": {},
   "outputs": [
    {
     "name": "stdout",
     "output_type": "stream",
     "text": [
      "12 ∑ i=1 Di = 6458.134171671001 o truncado es 6458\n"
     ]
    }
   ],
   "source": [
    "a = 900\n",
    "r = 0.9\n",
    "n = 12\n",
    "formula1 = a*(1-r**n)/(1-r)\n",
    "\n",
    "print(f\"12 ∑ i=1 Di = {formula1} o truncado es {(formula1):.0f}\")"
   ]
  }
 ],
 "metadata": {
  "kernelspec": {
   "display_name": "Python 3 (ipykernel)",
   "language": "python",
   "name": "python3"
  },
  "language_info": {
   "codemirror_mode": {
    "name": "ipython",
    "version": 3
   },
   "file_extension": ".py",
   "mimetype": "text/x-python",
   "name": "python",
   "nbconvert_exporter": "python",
   "pygments_lexer": "ipython3",
   "version": "3.10.9"
  }
 },
 "nbformat": 4,
 "nbformat_minor": 5
}
