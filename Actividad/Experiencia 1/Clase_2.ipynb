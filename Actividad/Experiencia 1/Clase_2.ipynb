{
 "cells": [
  {
   "cell_type": "markdown",
   "metadata": {},
   "source": [
    "Ejercicio 1:\n",
    "Sea la sucesion, definida por su termino general, Gn = 5*n**3"
   ]
  },
  {
   "cell_type": "markdown",
   "metadata": {},
   "source": [
    "A) Calcular los 4 primeros terminos de la sucesion"
   ]
  },
  {
   "cell_type": "code",
   "execution_count": 1,
   "metadata": {},
   "outputs": [
    {
     "name": "stdout",
     "output_type": "stream",
     "text": [
      "Los 4 primeros terminos de la sucesion son: [5, 40, 135, 320]\n"
     ]
    }
   ],
   "source": [
    "lista_primeros_terminos = [] # crea una lista vacia\n",
    "for i in range(1,5): # itera sobre los valores de i en el rango de 1 a 5\n",
    "    gn = 5*i**3 # calcula el termino general de la sucesion\n",
    "    lista_primeros_terminos.append(gn) # agrega el termino general a la lista\n",
    "print(f\"Los {len(lista_primeros_terminos)} primeros terminos de la sucesion son: {lista_primeros_terminos}\") # imprime la lista de los primeros terminos de la sucesion"
   ]
  },
  {
   "cell_type": "markdown",
   "metadata": {},
   "source": [
    "B) Los 4 terminos que vienen inmediatamente despues del 8vo termino"
   ]
  },
  {
   "cell_type": "code",
   "execution_count": 2,
   "metadata": {},
   "outputs": [
    {
     "name": "stdout",
     "output_type": "stream",
     "text": [
      "Los 4 terminos que vienen inmediatamente despues del 8vo termino son: [3645, 5000, 6655, 8640]\n"
     ]
    }
   ],
   "source": [
    "# aqui hacemos lo mismo pero la unica diferencia cambiando el rango de los terminos a calcular\n",
    "lista_terminos = []\n",
    "for i in range(9,13):\n",
    "    gn = 5*i**3\n",
    "    lista_terminos.append(gn)\n",
    "print(f\"Los {len(lista_terminos)} terminos que vienen inmediatamente despues del 8vo termino son: {lista_terminos}\")"
   ]
  },
  {
   "cell_type": "markdown",
   "metadata": {},
   "source": [
    "C) ¿el termino 40000 pertenece a la sucesion?"
   ]
  },
  {
   "cell_type": "code",
   "execution_count": 3,
   "metadata": {},
   "outputs": [
    {
     "name": "stdout",
     "output_type": "stream",
     "text": [
      "El termino 40000 pertenece a la sucesion y es el termino 20 de la sucesion\n"
     ]
    }
   ],
   "source": [
    "# aqui usamos lo mismo que lo anterior pero este recorre los primeros 40000 terminos de la sucesion y no los guarda en una lista, solo pregunta si el termino 40000 pertenece a la sucesion y en caso de que si, imprime el termino y el indice en el que se encuentra\n",
    "# el index() devuelve el indice de un elemento en una lista y por eso le sumamos 1 para que nos de el termino y no el indice\n",
    "lista_terminos = []\n",
    "for i in range(1,40001):\n",
    "    gn = 5*i**3\n",
    "    lista_terminos.append(gn)\n",
    "\n",
    "if 40000 in lista_terminos:\n",
    "    print(f\"El termino 40000 pertenece a la sucesion y es el termino {lista_terminos.index(40000)+1} de la sucesion\")\n",
    "else:\n",
    "    print(\"El termino 40000 no pertenece a la sucesion\")"
   ]
  },
  {
   "cell_type": "markdown",
   "metadata": {},
   "source": [
    "D) determine si el termino 100 pertenece a la sucesion Sn = 3*n**2+1"
   ]
  },
  {
   "cell_type": "code",
   "execution_count": 4,
   "metadata": {},
   "outputs": [
    {
     "name": "stdout",
     "output_type": "stream",
     "text": [
      "El termino 100 no pertenece a la sucesion\n"
     ]
    }
   ],
   "source": [
    "# hacemos lo mismo que en el ejercicio anterior\n",
    "lista_terminos = []\n",
    "for i in range(1,101):\n",
    "    sn = 3*i**2+1\n",
    "    lista_terminos.append(sn)\n",
    "if 100 in lista_terminos:\n",
    "    print(f\"El termino 100 pertenece a la sucesion y es el termino {lista_terminos.index(100)+1} de la sucesion\")\n",
    "else:\n",
    "    print(\"El termino 100 no pertenece a la sucesion\")"
   ]
  },
  {
   "cell_type": "markdown",
   "metadata": {},
   "source": [
    "Ejercicio 2: Sea la sucesion, definida por su termino general, An = 1/n"
   ]
  },
  {
   "cell_type": "markdown",
   "metadata": {},
   "source": [
    "A) determine los terminos: A10, A100, A1000, A10000"
   ]
  },
  {
   "cell_type": "code",
   "execution_count": 5,
   "metadata": {},
   "outputs": [
    {
     "name": "stdout",
     "output_type": "stream",
     "text": [
      "Los terminos A10, A100, A1000, A10000 son: 0.1, 0.01, 0.001, 0.0001, 1e-05\n"
     ]
    }
   ],
   "source": [
    "# este codigo calcula los primeros 100000 terminos y los guarda en una lista para luego acceder a ellos y mostrarlos por pantalla\n",
    "lista_terminos = []\n",
    "for i in range(1,100001):\n",
    "    an = 1/i\n",
    "    lista_terminos.append(an)\n",
    "print(f\"Los terminos A10, A100, A1000, A10000 son: {lista_terminos[9]}, {lista_terminos[99]}, {lista_terminos[999]}, {lista_terminos[9999]}, {lista_terminos[99999]}\")"
   ]
  },
  {
   "cell_type": "markdown",
   "metadata": {},
   "source": [
    "B) despues de calcular los terminos anteriores ¿que tipo de sucesion es An?"
   ]
  },
  {
   "cell_type": "markdown",
   "metadata": {},
   "source": [
    "Respuesta: Es una sucesion decreciente por que los terminos son cada vez mas pequeños"
   ]
  },
  {
   "cell_type": "markdown",
   "metadata": {},
   "source": [
    "Ejercicio 3: sea la sucecion definida por su termino general, Bn = (1+(1/n))**n"
   ]
  },
  {
   "cell_type": "markdown",
   "metadata": {},
   "source": [
    "A) determine los terminos: B10, B100, B1000, B10000 y B100000"
   ]
  },
  {
   "cell_type": "markdown",
   "metadata": {},
   "source": [
    "IMPORTANTE: desde aqui ejecuten la celda y abajo para que vean el resultado de las siguientes ejecuciones de las siguientes celdas \n"
   ]
  },
  {
   "cell_type": "code",
   "execution_count": 6,
   "metadata": {},
   "outputs": [
    {
     "name": "stdout",
     "output_type": "stream",
     "text": [
      "Los terminos B10, B100, B1000, B10000 y B100000 son: 2.5937424601000023, 2.7048138294215285, 2.7169239322355936, 2.7181459268249255, 2.7182682371922975\n"
     ]
    }
   ],
   "source": [
    "# hacemos lo mismo que lo anterior pero lo unico que cambia es la formula de los terminos\n",
    "lista_terminos = []\n",
    "for i in range(1,100001):\n",
    "    bn = (1+(1/i))**i\n",
    "    lista_terminos.append(bn)\n",
    "print(f\"Los terminos B10, B100, B1000, B10000 y B100000 son: {lista_terminos[9]}, {lista_terminos[99]}, {lista_terminos[999]}, {lista_terminos[9999]}, {lista_terminos[99999]}\")"
   ]
  },
  {
   "cell_type": "markdown",
   "metadata": {},
   "source": [
    "B) despues de calcular los terminos anteriores ¿que tipo de sucesion es Bn?"
   ]
  },
  {
   "cell_type": "markdown",
   "metadata": {},
   "source": [
    "Respuesta: Es una sucesion creciente"
   ]
  },
  {
   "cell_type": "markdown",
   "metadata": {},
   "source": [
    "C) ¿que sucede con los terminos de esta sucesion al compararlos con el numero de Euler?"
   ]
  },
  {
   "cell_type": "code",
   "execution_count": 7,
   "metadata": {},
   "outputs": [
    {
     "name": "stdout",
     "output_type": "stream",
     "text": [
      "Se acercan al numero de Euler, pero no lo alcanzan, el numero de Euler es 2.718281828459045\n"
     ]
    }
   ],
   "source": [
    "# en este codigo importamos la libreria math y usamos la funcion e que nos devuelve el numero de Euler \n",
    "from math import e\n",
    "if lista_terminos[99999] < e:\n",
    "    print(f\"Se acercan al numero de Euler, pero no lo alcanzan, el numero de Euler es {e}\")\n",
    "else:\n",
    "    print(\"alcanzan al numero de Euler\")"
   ]
  },
  {
   "cell_type": "markdown",
   "metadata": {},
   "source": [
    "Ejercicio 4: considere las sucesiones (Tn)=(2,5,10,17,26,37,...), (Un)=(0,3,8,15,24,35,...) y (Vn)=(10,40,90,160,250,360,...)"
   ]
  },
  {
   "cell_type": "markdown",
   "metadata": {},
   "source": [
    "A) para cada sucesion, determine la expresion algebraica que define del termino de lugar n"
   ]
  },
  {
   "cell_type": "markdown",
   "metadata": {},
   "source": [
    "A.1) (Tn) = (2,5,10,17,26,37,...)"
   ]
  },
  {
   "cell_type": "code",
   "execution_count": 8,
   "metadata": {},
   "outputs": [
    {
     "name": "stdout",
     "output_type": "stream",
     "text": [
      "Los terminos de la sucesion Tn son: 3, 7, 13, 21, 31\n"
     ]
    }
   ],
   "source": [
    "# en este codigo se utiliza la ecuacion de recurrencia para calcular los terminos de la sucesion Tn \n",
    "lista_terminos = []\n",
    "for i in range(1,100001):\n",
    "    tn = i**2+i+1\n",
    "    lista_terminos.append(tn)\n",
    "print(f\"Los terminos de la sucesion Tn son: {lista_terminos[0]}, {lista_terminos[1]}, {lista_terminos[2]}, {lista_terminos[3]}, {lista_terminos[4]}\")"
   ]
  },
  {
   "cell_type": "markdown",
   "metadata": {},
   "source": [
    "A.2) (Un)=(0,3,8,15,24,35,...)"
   ]
  },
  {
   "cell_type": "code",
   "execution_count": 9,
   "metadata": {},
   "outputs": [
    {
     "name": "stdout",
     "output_type": "stream",
     "text": [
      "Los terminos de la sucesion Un son: 0, 3, 8, 15, 24\n"
     ]
    }
   ],
   "source": [
    "# en este codigo se utiliza la ecuacion de recurrencia para calcular los terminos de la sucesion Un\n",
    "lista_terminos = []\n",
    "for i in range(1,100001):\n",
    "    un = i**2-1\n",
    "    lista_terminos.append(un)\n",
    "print(f\"Los terminos de la sucesion Un son: {lista_terminos[0]}, {lista_terminos[1]}, {lista_terminos[2]}, {lista_terminos[3]}, {lista_terminos[4]}\")"
   ]
  },
  {
   "cell_type": "markdown",
   "metadata": {},
   "source": [
    "A.3) (Vn)=(10,40,90,160,250,360,...)"
   ]
  },
  {
   "cell_type": "code",
   "execution_count": 10,
   "metadata": {},
   "outputs": [
    {
     "name": "stdout",
     "output_type": "stream",
     "text": [
      "Los terminos de la sucesion Vn son: 1, 8, 27, 64, 125\n"
     ]
    }
   ],
   "source": [
    "# en este codigo se utiliza la ecuacion de recurrencia para calcular los terminos de la sucesion Vn\n",
    "lista_terminos = []\n",
    "for i in range(1,100001):\n",
    "    vn = i**3\n",
    "    lista_terminos.append(vn)\n",
    "print(f\"Los terminos de la sucesion Vn son: {lista_terminos[0]}, {lista_terminos[1]}, {lista_terminos[2]}, {lista_terminos[3]}, {lista_terminos[4]}\")"
   ]
  }
 ],
 "metadata": {
  "kernelspec": {
   "display_name": "base",
   "language": "python",
   "name": "python3"
  },
  "language_info": {
   "codemirror_mode": {
    "name": "ipython",
    "version": 3
   },
   "file_extension": ".py",
   "mimetype": "text/x-python",
   "name": "python",
   "nbconvert_exporter": "python",
   "pygments_lexer": "ipython3",
   "version": "3.10.9"
  },
  "orig_nbformat": 4
 },
 "nbformat": 4,
 "nbformat_minor": 2
}
