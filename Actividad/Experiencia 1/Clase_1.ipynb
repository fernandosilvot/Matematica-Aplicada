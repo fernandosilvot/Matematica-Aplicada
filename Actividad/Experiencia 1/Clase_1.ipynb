{
 "cells": [
  {
   "cell_type": "markdown",
   "id": "d7860ad1",
   "metadata": {},
   "source": [
    "sea la sucsion, definida por su termino general, Sn = 3n**2+7"
   ]
  },
  {
   "cell_type": "markdown",
   "id": "f509c58e",
   "metadata": {},
   "source": [
    "\n",
    "A) calcular los 5 primeros terminos de la sucesion"
   ]
  },
  {
   "cell_type": "code",
   "execution_count": 1,
   "id": "dd5117a6",
   "metadata": {},
   "outputs": [
    {
     "name": "stdout",
     "output_type": "stream",
     "text": [
      "Los 5 primeros terminos de la sucesion son: [10, 19, 34, 55, 82]\n"
     ]
    }
   ],
   "source": [
    "lista_5_primeros_terminos = [] # Creamos una lista vacia\n",
    "for n in range(1,6): # Iteramos sobre los primeros 5 numeros naturales\n",
    "    Sn = 3*n**2+7 # Calculamos el termino general de la sucesion\n",
    "    lista_5_primeros_terminos.append(Sn) # Agregamos el termino general a la lista\n",
    "print(f\"Los {len(lista_5_primeros_terminos)} primeros terminos de la sucesion son: {lista_5_primeros_terminos}\") # Imprimimos la lista de los primeros 5 terminos "
   ]
  },
  {
   "cell_type": "markdown",
   "id": "d125e7c1",
   "metadata": {},
   "source": [
    "B) Los 5 terminos que vienen inmediatamente despues de decimo quinto termino"
   ]
  },
  {
   "cell_type": "code",
   "execution_count": 2,
   "id": "7211af38",
   "metadata": {},
   "outputs": [
    {
     "name": "stdout",
     "output_type": "stream",
     "text": [
      "Los 5 terminos que vienen inmediatamente despues de decimo quinto termino son: [775, 874, 979, 1090, 1207]\n"
     ]
    }
   ],
   "source": [
    "lista_5_terminos_despues_del_15 = []\n",
    "for i in range(16,21):\n",
    "    Sn = 3*i**2+7\n",
    "    lista_5_terminos_despues_del_15.append(Sn)\n",
    "print(f\"Los {len(lista_5_terminos_despues_del_15)} terminos que vienen inmediatamente despues de decimo quinto termino son: {lista_5_terminos_despues_del_15}\")"
   ]
  }
 ],
 "metadata": {
  "kernelspec": {
   "display_name": "Python 3 (ipykernel)",
   "language": "python",
   "name": "python3"
  },
  "language_info": {
   "codemirror_mode": {
    "name": "ipython",
    "version": 3
   },
   "file_extension": ".py",
   "mimetype": "text/x-python",
   "name": "python",
   "nbconvert_exporter": "python",
   "pygments_lexer": "ipython3",
   "version": "3.10.9"
  }
 },
 "nbformat": 4,
 "nbformat_minor": 5
}
