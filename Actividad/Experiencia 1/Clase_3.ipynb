{
 "cells": [
  {
   "cell_type": "markdown",
   "metadata": {},
   "source": [
    "Hola en esta hoja, no reiterare puntos ya vistos, informare de nuevos codigos."
   ]
  },
  {
   "cell_type": "markdown",
   "metadata": {},
   "source": [
    "lo unico que si ejecute desde arriba hacia abajo las celdas."
   ]
  },
  {
   "cell_type": "markdown",
   "metadata": {},
   "source": [
    "Ejercicio 1:\n",
    "Sea la sucesion (Kn) definida por su termino general (-1)**n"
   ]
  },
  {
   "cell_type": "markdown",
   "metadata": {},
   "source": [
    "A) determine los primeros 20 terminos"
   ]
  },
  {
   "cell_type": "code",
   "execution_count": 1,
   "metadata": {},
   "outputs": [
    {
     "name": "stdout",
     "output_type": "stream",
     "text": [
      "Los primeros 20 terminos de la sucesion son: [-1, 1, -1, 1, -1, 1, -1, 1, -1, 1, -1, 1, -1, 1, -1, 1, -1, 1, -1, 1]\n"
     ]
    }
   ],
   "source": [
    "lista_terminos = []\n",
    "for i in range(1,21):\n",
    "    kn = (-1)**i\n",
    "    lista_terminos.append(kn)\n",
    "print(f\"Los primeros 20 terminos de la sucesion son: {lista_terminos}\")"
   ]
  },
  {
   "cell_type": "markdown",
   "metadata": {},
   "source": [
    "B) ¿Que se puede afirmar de los terminos de la sucesion?"
   ]
  },
  {
   "cell_type": "markdown",
   "metadata": {},
   "source": [
    "Respuesta: Los terminos de la sucesion son alternantes, ya que cambian de signo"
   ]
  },
  {
   "cell_type": "markdown",
   "metadata": {},
   "source": [
    "C) ¿cual es el termino que ocupa la posicion 2020?"
   ]
  },
  {
   "cell_type": "code",
   "execution_count": 2,
   "metadata": {},
   "outputs": [
    {
     "name": "stdout",
     "output_type": "stream",
     "text": [
      "El termino que ocupa la posicion 2020 es: 1\n"
     ]
    }
   ],
   "source": [
    "lista_terminos = []\n",
    "for i in range(1,2021):\n",
    "    kn = (-1)**i\n",
    "    lista_terminos.append(kn)\n",
    "print(f\"El termino que ocupa la posicion 2020 es: {lista_terminos[2019]}\")"
   ]
  },
  {
   "cell_type": "markdown",
   "metadata": {},
   "source": [
    "D) ¿cual es el septimo termino de la sucesion?"
   ]
  },
  {
   "cell_type": "markdown",
   "metadata": {},
   "source": [
    "Qn = 4+(7-1)*12"
   ]
  },
  {
   "cell_type": "code",
   "execution_count": 3,
   "metadata": {},
   "outputs": [
    {
     "name": "stdout",
     "output_type": "stream",
     "text": [
      "El septimo termino de la sucesion es: 76\n"
     ]
    }
   ],
   "source": [
    "lista_terminos = []\n",
    "for i in range(1,8):\n",
    "    qn = 4+(i-1)*12\n",
    "    lista_terminos.append(qn)\n",
    "print(f\"El septimo termino de la sucesion es: {lista_terminos[6]}\")"
   ]
  },
  {
   "cell_type": "markdown",
   "metadata": {},
   "source": [
    "E) ¿Como puedo comprobar si 76 es el spetimo termino de la sucesion?"
   ]
  },
  {
   "cell_type": "markdown",
   "metadata": {},
   "source": [
    "formula = 76 = 4+(n-1)*12"
   ]
  },
  {
   "cell_type": "markdown",
   "metadata": {},
   "source": [
    "((76-4)/12) +1 =n"
   ]
  },
  {
   "cell_type": "code",
   "execution_count": 4,
   "metadata": {},
   "outputs": [
    {
     "name": "stdout",
     "output_type": "stream",
     "text": [
      "76 es el septimo termino de la sucesion: True\n"
     ]
    }
   ],
   "source": [
    "n = ((lista_terminos[6]-4)/12) +1\n",
    "print(f\"76 es el septimo termino de la sucesion: {n == 7}\")"
   ]
  },
  {
   "cell_type": "markdown",
   "metadata": {},
   "source": [
    "Ejercicio 2: considere la sucesion aritmetica: 25,72;26,93;28,14;... determine "
   ]
  },
  {
   "cell_type": "markdown",
   "metadata": {},
   "source": [
    "A) la diferencia aritmetica "
   ]
  },
  {
   "cell_type": "code",
   "execution_count": 5,
   "metadata": {},
   "outputs": [
    {
     "name": "stdout",
     "output_type": "stream",
     "text": [
      "La diferencia aritmetica es 1.2100000000000009: True\n"
     ]
    }
   ],
   "source": [
    "d1 = 28.14-26.93\n",
    "d2 = 26.93-25.72\n",
    "print(f\"La diferencia aritmetica es {d1}: {d1 == d2}\")"
   ]
  },
  {
   "cell_type": "markdown",
   "metadata": {},
   "source": [
    "B) la expresion del termino de lugar \"n\""
   ]
  },
  {
   "cell_type": "markdown",
   "metadata": {},
   "source": [
    "Respuesta: Qn = Q1 + (n-1)*d"
   ]
  },
  {
   "cell_type": "markdown",
   "metadata": {},
   "source": [
    "C) el termino del lugar 50 "
   ]
  },
  {
   "cell_type": "code",
   "execution_count": 6,
   "metadata": {},
   "outputs": [
    {
     "name": "stdout",
     "output_type": "stream",
     "text": [
      "El termino del lugar 50 es: 85.01000000000005\n"
     ]
    }
   ],
   "source": [
    "q50 = 25.72 + (50-1)*d1\n",
    "print(f\"El termino del lugar 50 es: {q50}\")"
   ]
  },
  {
   "cell_type": "markdown",
   "metadata": {},
   "source": [
    "D) ¿Que lugar  ocupa en esta sucesion el termino \"411.71\"?"
   ]
  },
  {
   "cell_type": "code",
   "execution_count": 7,
   "metadata": {},
   "outputs": [
    {
     "name": "stdout",
     "output_type": "stream",
     "text": [
      "El termino 411.71 ocupa el lugar: 319.9999999999998\n",
      "El termino 319.9999999999998 ocupa el lugar: 411.71000000000004\n"
     ]
    }
   ],
   "source": [
    "n = ((411.71-25.72)/d1) +1\n",
    "print(f\"El termino 411.71 ocupa el lugar: {n}\")\n",
    "qn = 25.72 + (n-1)*d1\n",
    "print(f\"El termino {n} ocupa el lugar: {qn}\")"
   ]
  },
  {
   "cell_type": "markdown",
   "metadata": {},
   "source": [
    "Ejercicio 3: En una sucesion aritmetica, la diferencia entre un termino y el anterior es 4 y el decimo termino es -20 determine "
   ]
  },
  {
   "cell_type": "markdown",
   "metadata": {},
   "source": [
    "A) El primer termino"
   ]
  },
  {
   "cell_type": "markdown",
   "metadata": {},
   "source": [
    "Q10 = Q1 + (10-1)*d"
   ]
  },
  {
   "cell_type": "code",
   "execution_count": 8,
   "metadata": {},
   "outputs": [
    {
     "name": "stdout",
     "output_type": "stream",
     "text": [
      "El primer termino es: -56\n"
     ]
    }
   ],
   "source": [
    "n = 10\n",
    "qn = -20\n",
    "d = 4\n",
    "q1 = qn - (n-1)*d\n",
    "print(f\"El primer termino es: {q1}\")"
   ]
  },
  {
   "cell_type": "markdown",
   "metadata": {},
   "source": [
    "B) la expresion del termino de lugar \"n\""
   ]
  },
  {
   "cell_type": "markdown",
   "metadata": {},
   "source": [
    "Respuesta: Qn = Q1 + (n-1)*d"
   ]
  },
  {
   "cell_type": "markdown",
   "metadata": {},
   "source": [
    "C) El termino del lugar 100"
   ]
  },
  {
   "cell_type": "code",
   "execution_count": 9,
   "metadata": {},
   "outputs": [
    {
     "name": "stdout",
     "output_type": "stream",
     "text": [
      "El termino del lugar 100 es: 340\n"
     ]
    }
   ],
   "source": [
    "q100 = q1 + (100-1)*d\n",
    "print(f\"El termino del lugar 100 es: {q100}\")"
   ]
  },
  {
   "cell_type": "markdown",
   "metadata": {},
   "source": [
    "D) ¿que lugar ocupa en esta sucesion el termino \"1680\"?"
   ]
  },
  {
   "cell_type": "code",
   "execution_count": 10,
   "metadata": {},
   "outputs": [
    {
     "name": "stdout",
     "output_type": "stream",
     "text": [
      "El termino 1680 ocupa el lugar: 435.0\n"
     ]
    }
   ],
   "source": [
    "n = ((1680-q1)/d) +1\n",
    "print(f\"El termino 1680 ocupa el lugar: {n}\")"
   ]
  },
  {
   "cell_type": "markdown",
   "metadata": {},
   "source": [
    "Ejercicio 3: Una casa se arrienda por 2 años, considerando que este periodo el arriendo se incrementara todos los meses en una cantidad constante. Si el quinto mes de arriendo se pagara 204000 y el decimo tercer mes 252000,¿cual sera el valor  del arriendo en el primer mes y ultimo mes?"
   ]
  },
  {
   "cell_type": "code",
   "execution_count": 11,
   "metadata": {},
   "outputs": [
    {
     "name": "stdout",
     "output_type": "stream",
     "text": [
      "El valor del arriendo en el primer mes es: 180000.0\n",
      "El valor del arriendo en el ultimo mes es: 318000.0\n"
     ]
    }
   ],
   "source": [
    "q5 = 204000\n",
    "q13 = 252000\n",
    "dx = 13-5\n",
    "d = q13-q5\n",
    "d8 = (d/dx)\n",
    "q1 = q5 - (5-1)*d8\n",
    "q12 = q5 + (24-5)*d8\n",
    "print(f\"El valor del arriendo en el primer mes es: {q1}\")\n",
    "print(f\"El valor del arriendo en el ultimo mes es: {q12}\")"
   ]
  },
  {
   "cell_type": "markdown",
   "metadata": {},
   "source": [
    "Ejercicio tipo prueba"
   ]
  },
  {
   "cell_type": "markdown",
   "metadata": {},
   "source": [
    "segun estadisticas de un hospital, en promedio los recien nacidos miden 48 cm y por cada mes, hasta que cumplen un año, su altura se incrementa uniformemente en 0.7 cm. considere que An representa la  altura promedio de los bebes al cabo de n meses"
   ]
  },
  {
   "cell_type": "markdown",
   "metadata": {},
   "source": [
    "A) Indicar que tipo de sucesion modela la altura promedio de los bebes"
   ]
  },
  {
   "cell_type": "markdown",
   "metadata": {},
   "source": [
    "Respuesta: Es una sucesion aritmetica, por que la altura se incrementa uniformemente"
   ]
  },
  {
   "cell_type": "markdown",
   "metadata": {},
   "source": [
    "B) Escriba la expresion del termino \"An\""
   ]
  },
  {
   "cell_type": "markdown",
   "metadata": {},
   "source": [
    "Respuesta: An = 48 + (n-1)*0.7"
   ]
  },
  {
   "cell_type": "markdown",
   "metadata": {},
   "source": [
    "C) ¿Cuanto miden en promedio los bebes al cabo de 7 meses de haber nacido?"
   ]
  },
  {
   "cell_type": "code",
   "execution_count": 12,
   "metadata": {},
   "outputs": [
    {
     "name": "stdout",
     "output_type": "stream",
     "text": [
      "Los bebes miden en promedio 52.2 cm al cabo de 7 meses de haber nacido\n"
     ]
    }
   ],
   "source": [
    "n = 7\n",
    "an = 48 + (n-1)*0.7\n",
    "print(f\"Los bebes miden en promedio {an} cm al cabo de 7 meses de haber nacido\")"
   ]
  },
  {
   "cell_type": "markdown",
   "metadata": {},
   "source": [
    "D) ¿Cuantos meses de vida deben tener un bebe para medir, en promedio 54.3 cm?"
   ]
  },
  {
   "cell_type": "code",
   "execution_count": 13,
   "metadata": {},
   "outputs": [
    {
     "name": "stdout",
     "output_type": "stream",
     "text": [
      "Los bebes deben tener 9.999999999999996 meses de vida para medir, en promedio 54.3 cm\n"
     ]
    }
   ],
   "source": [
    "an = 54.3\n",
    "n = ((an-48)/0.7) +1\n",
    "print(f\"Los bebes deben tener {n} meses de vida para medir, en promedio 54.3 cm\")"
   ]
  },
  {
   "cell_type": "markdown",
   "metadata": {},
   "source": [
    "Ejercicio tipo prueba 2"
   ]
  },
  {
   "cell_type": "markdown",
   "metadata": {},
   "source": [
    "En una sucesion aritmetica, el cuarto termino es 64 y el termino lugar 54 es -61. determine el vigesimo tercer termino"
   ]
  },
  {
   "cell_type": "code",
   "execution_count": 14,
   "metadata": {},
   "outputs": [
    {
     "name": "stdout",
     "output_type": "stream",
     "text": [
      "El vigesimo tercer termino es: 16.5\n"
     ]
    }
   ],
   "source": [
    "d = -125/50\n",
    "q1 = 64 - (4-1)*d\n",
    "q23 = q1 + (23-1)*d\n",
    "print(f\"El vigesimo tercer termino es: {q23}\")"
   ]
  },
  {
   "cell_type": "markdown",
   "metadata": {},
   "source": [
    "Tarea solo para valientes"
   ]
  },
  {
   "cell_type": "markdown",
   "metadata": {},
   "source": [
    "en una colonia de abejas, en el primer dia de investigacion los alumnos de ingenieria.\n",
    "Agricola contabilizaron 3 abejas, el segundo el segundo día contabilizaron 9 y el tercero 15. Si la cantidad de abejas se fue incrementando de manera constante, se pide"
   ]
  },
  {
   "cell_type": "markdown",
   "metadata": {},
   "source": [
    "A) Indicar que tipo de sucesión modela la cantidad de abejas."
   ]
  },
  {
   "cell_type": "markdown",
   "metadata": {},
   "source": [
    "Respuesta: Es una sucesion aritmetica, por que la cantidad de abejas se incrementa de manera constante"
   ]
  },
  {
   "cell_type": "markdown",
   "metadata": {},
   "source": [
    "B) Escribir la expresión del término de lugar \"n\"."
   ]
  },
  {
   "cell_type": "markdown",
   "metadata": {},
   "source": [
    "Respuesta: An = 3 + (n-1)*6"
   ]
  },
  {
   "cell_type": "markdown",
   "metadata": {},
   "source": [
    "C) Determinar cuántas abejas habian el vigesimo dia"
   ]
  },
  {
   "cell_type": "code",
   "execution_count": 15,
   "metadata": {},
   "outputs": [
    {
     "name": "stdout",
     "output_type": "stream",
     "text": [
      "El vigesimo dia habian 117 abejas\n"
     ]
    }
   ],
   "source": [
    "n = 20\n",
    "an = 3 + (n-1)*6\n",
    "print(f\"El vigesimo dia habian {an} abejas\")"
   ]
  },
  {
   "cell_type": "markdown",
   "metadata": {},
   "source": [
    "D) Determinar cuantas abejas habia a los 30 dias "
   ]
  },
  {
   "cell_type": "code",
   "execution_count": 16,
   "metadata": {},
   "outputs": [
    {
     "name": "stdout",
     "output_type": "stream",
     "text": [
      "A los 30 dias habian 177 abejas\n"
     ]
    }
   ],
   "source": [
    "n = 30\n",
    "an = 3 + (n-1)*6\n",
    "print(f\"A los 30 dias habian {an} abejas\")"
   ]
  },
  {
   "cell_type": "markdown",
   "metadata": {},
   "source": [
    "E) ¿Cuantos dias deben transcurrir para que se puedan contabilizar 333 abejas?"
   ]
  },
  {
   "cell_type": "code",
   "execution_count": 17,
   "metadata": {},
   "outputs": [
    {
     "name": "stdout",
     "output_type": "stream",
     "text": [
      "Deben transcurrir 56.0 dias para que se puedan contabilizar 333 abejas\n"
     ]
    }
   ],
   "source": [
    "an = 333\n",
    "n = ((an-3)/6) +1\n",
    "print(f\"Deben transcurrir {n} dias para que se puedan contabilizar 333 abejas\")"
   ]
  }
 ],
 "metadata": {
  "kernelspec": {
   "display_name": "Python 3 (ipykernel)",
   "language": "python",
   "name": "python3"
  },
  "language_info": {
   "codemirror_mode": {
    "name": "ipython",
    "version": 3
   },
   "file_extension": ".py",
   "mimetype": "text/x-python",
   "name": "python",
   "nbconvert_exporter": "python",
   "pygments_lexer": "ipython3",
   "version": "3.10.9"
  }
 },
 "nbformat": 4,
 "nbformat_minor": 2
}
