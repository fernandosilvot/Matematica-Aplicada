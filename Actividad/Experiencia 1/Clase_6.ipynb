{
 "cells": [
  {
   "cell_type": "code",
   "execution_count": 1,
   "id": "90c3d47a",
   "metadata": {},
   "outputs": [],
   "source": [
    "import numpy as np"
   ]
  },
  {
   "cell_type": "markdown",
   "id": "022f20f3",
   "metadata": {},
   "source": [
    "Ejercicio 1\n",
    ".\n",
    ".\n",
    "Utilizando notacion de sumatorias, exprese las siguientes sumas."
   ]
  },
  {
   "cell_type": "markdown",
   "id": "4b776445",
   "metadata": {},
   "source": [
    "A) a5 + a6 + a7 + a8 + a9 + a10 + a11 + a12 + a13"
   ]
  },
  {
   "cell_type": "code",
   "execution_count": 2,
   "id": "0bb3dcf6",
   "metadata": {},
   "outputs": [
    {
     "name": "stdout",
     "output_type": "stream",
     "text": [
      "a5 + a6 + a7 + a8 + a9 + a10 + a11 + a12 + a13 = 81\n"
     ]
    }
   ],
   "source": [
    "print(f\"a5 + a6 + a7 + a8 + a9 + a10 + a11 + a12 + a13 = {sum([i for i in range(5, 14)])}\")"
   ]
  },
  {
   "cell_type": "markdown",
   "id": "a992a002",
   "metadata": {},
   "source": [
    "B) b38 + b39 + b40 + b41 + b42 + b43 + b44 + b45 + b46 + b47 + b48"
   ]
  },
  {
   "cell_type": "code",
   "execution_count": 3,
   "id": "626e49f9",
   "metadata": {},
   "outputs": [
    {
     "name": "stdout",
     "output_type": "stream",
     "text": [
      "b38 + b39 + b40 + b41 + b42 + b43 + b44 + b45 + b46 + b47 + b48 = 473\n"
     ]
    }
   ],
   "source": [
    "print(f\"b38 + b39 + b40 + b41 + b42 + b43 + b44 + b45 + b46 + b47 + b48 = {sum([i for i in range(38, 49)])}\")"
   ]
  },
  {
   "cell_type": "markdown",
   "id": "b6cbd651",
   "metadata": {},
   "source": [
    "C) c21 + c22 + c23 + c24 + ... + c91 + c92 + c93"
   ]
  },
  {
   "cell_type": "code",
   "execution_count": 4,
   "id": "bb1b45e3",
   "metadata": {},
   "outputs": [
    {
     "name": "stdout",
     "output_type": "stream",
     "text": [
      "c21 + c22 + c23 + c24 + ... + c91 + c92 + c93 = 4161\n"
     ]
    }
   ],
   "source": [
    "print(f\"c21 + c22 + c23 + c24 + ... + c91 + c92 + c93 = {sum([i for i in range(21, 94)])}\")"
   ]
  },
  {
   "cell_type": "markdown",
   "id": "e79d16de",
   "metadata": {},
   "source": [
    "Ejercicio 2\n",
    "\n",
    "Sea la sucesion An=3*n**2+7 determine\n",
    "nota : utilice la notacion de sumatorias al expresar cada resultado"
   ]
  },
  {
   "cell_type": "markdown",
   "id": "677aeefc",
   "metadata": {},
   "source": [
    "A) la suma de los 4 primeros terminos"
   ]
  },
  {
   "cell_type": "code",
   "execution_count": 5,
   "id": "8f26eecb",
   "metadata": {},
   "outputs": [
    {
     "name": "stdout",
     "output_type": "stream",
     "text": [
      "a1 = 10\n",
      "a2 = 19\n",
      "a3 = 34\n",
      "a4 = 55\n"
     ]
    }
   ],
   "source": [
    "for i in range(1, 5):\n",
    "    an = 3 * i ** 2 + 7\n",
    "    print(f\"a{i} = {an}\")"
   ]
  },
  {
   "cell_type": "markdown",
   "id": "ecd0afe2",
   "metadata": {},
   "source": [
    "Ejercicio 3\n",
    "\n",
    "Un nuevo canal de Youtube registra 50 visitas la primera semana de funcionamiento, registra 66 visitas la segunda, 82 la tercera y asi sucesivamente. Representado por Vi la cantidad de visitas en la semana i,"
   ]
  },
  {
   "cell_type": "markdown",
   "id": "27cab2c7",
   "metadata": {},
   "source": [
    "A) Escriba la expresion algebraica para el termino Vi"
   ]
  },
  {
   "cell_type": "code",
   "execution_count": 6,
   "id": "ba98b44b",
   "metadata": {},
   "outputs": [
    {
     "name": "stdout",
     "output_type": "stream",
     "text": [
      "Vi = 50 + (n-1) * 16\n"
     ]
    }
   ],
   "source": [
    "q1= 50\n",
    "q2= 66\n",
    "q3= 82\n",
    "d = q2 - q1\n",
    "d2 = q3 - q2\n",
    "if d == d2:\n",
    "    print(f\"Vi = 50 + (n-1) * {d}\")"
   ]
  },
  {
   "cell_type": "markdown",
   "id": "4578917c",
   "metadata": {},
   "source": [
    "B) Escriba la expresion algebreaica para el numero total de visitas durante las n primeras semanas"
   ]
  },
  {
   "cell_type": "code",
   "execution_count": 7,
   "id": "dbdc8999",
   "metadata": {},
   "outputs": [
    {
     "name": "stdout",
     "output_type": "stream",
     "text": [
      "n/2*(2*50+(n-1)*16)\n"
     ]
    }
   ],
   "source": [
    "print(f\"n/2*(2*{q1}+(n-1)*{d})\")"
   ]
  },
  {
   "cell_type": "markdown",
   "id": "e7973583",
   "metadata": {},
   "source": [
    "Ejercicio 4\n",
    "\n",
    "Diego decide ahorrar en dólares para un viaje durante dos años y medio. El primer mes ahorra 900 dólares, el segundo mes 810 dólares, el tercer mes 729 dólares, y así sucesivamente. Represente por d; la cantidad de dólares que ahorra Diego en el mes i."
   ]
  },
  {
   "cell_type": "markdown",
   "id": "65e4294e",
   "metadata": {},
   "source": [
    "A) Escriba la expresion algebraica para el termino di"
   ]
  },
  {
   "cell_type": "code",
   "execution_count": 8,
   "id": "ec983c0c",
   "metadata": {},
   "outputs": [
    {
     "name": "stdout",
     "output_type": "stream",
     "text": [
      "di = 900 * 0.9 ** (n-1)\n"
     ]
    }
   ],
   "source": [
    "q1= 900\n",
    "q2= 810\n",
    "q3= 729\n",
    "\n",
    "if q2/q1 == q3/q2:\n",
    "    r = q2/q1\n",
    "    print(f\"di = {q1} * {r} ** (n-1)\")"
   ]
  },
  {
   "cell_type": "markdown",
   "id": "d188d60d",
   "metadata": {},
   "source": [
    "B) Escriba la expresion algebraica que calcula el total de dinero ahorrado por"
   ]
  },
  {
   "cell_type": "code",
   "execution_count": 9,
   "id": "0ffb93de",
   "metadata": {},
   "outputs": [
    {
     "name": "stdout",
     "output_type": "stream",
     "text": [
      "900 * ((0.9 ** n) - 1) / (1 - 0.9)\n"
     ]
    }
   ],
   "source": [
    "print(f\"{q1} * (({r} ** n) - 1) / (1 - {r})\")"
   ]
  }
 ],
 "metadata": {
  "kernelspec": {
   "display_name": "Python 3 (ipykernel)",
   "language": "python",
   "name": "python3"
  },
  "language_info": {
   "codemirror_mode": {
    "name": "ipython",
    "version": 3
   },
   "file_extension": ".py",
   "mimetype": "text/x-python",
   "name": "python",
   "nbconvert_exporter": "python",
   "pygments_lexer": "ipython3",
   "version": "3.10.9"
  }
 },
 "nbformat": 4,
 "nbformat_minor": 5
}
