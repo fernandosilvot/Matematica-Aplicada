{
 "cells": [
  {
   "cell_type": "markdown",
   "id": "6960001f",
   "metadata": {},
   "source": [
    "Hola Bienvenid@ a la clase numero 5"
   ]
  },
  {
   "cell_type": "markdown",
   "id": "509e0d36",
   "metadata": {},
   "source": [
    "Revisar tarea"
   ]
  },
  {
   "cell_type": "markdown",
   "id": "b5b3d6a0",
   "metadata": {},
   "source": [
    "1) El tercer termino de una sucesion geometrica es 5  y el sexto termino es de 40. determine"
   ]
  },
  {
   "cell_type": "markdown",
   "id": "bd4900a8",
   "metadata": {},
   "source": [
    "A) La razon geometrica"
   ]
  },
  {
   "cell_type": "code",
   "execution_count": 1,
   "id": "b26d70ff",
   "metadata": {},
   "outputs": [],
   "source": [
    "import math"
   ]
  },
  {
   "cell_type": "code",
   "execution_count": 2,
   "id": "26046dce",
   "metadata": {},
   "outputs": [
    {
     "name": "stdout",
     "output_type": "stream",
     "text": [
      "La razon geometrica es: 2.0\n"
     ]
    }
   ],
   "source": [
    "q3 = 5\n",
    "q6 = 40\n",
    "r = q6/q3\n",
    "r3= (q6/q3)**(1/3)\n",
    "print(f\"La razon geometrica es: {r3}\")"
   ]
  },
  {
   "cell_type": "markdown",
   "id": "a4f28174",
   "metadata": {},
   "source": [
    "B) El primer termino"
   ]
  },
  {
   "cell_type": "code",
   "execution_count": 3,
   "id": "8e3b853b",
   "metadata": {},
   "outputs": [
    {
     "name": "stdout",
     "output_type": "stream",
     "text": [
      "El primer termino es: 1.25\n"
     ]
    }
   ],
   "source": [
    "q1 = q3/r3**(3-1)\n",
    "print(f\"El primer termino es: {q1}\")"
   ]
  },
  {
   "cell_type": "markdown",
   "id": "ceea72e7",
   "metadata": {},
   "source": [
    "C) La expresion del termino de lugar \"n\""
   ]
  },
  {
   "cell_type": "code",
   "execution_count": 4,
   "id": "0e164e55",
   "metadata": {},
   "outputs": [
    {
     "name": "stdout",
     "output_type": "stream",
     "text": [
      "Qn = 1.25 * 2.0**(n-1)\n"
     ]
    }
   ],
   "source": [
    "print(f\"Qn = {q1} * {r3}**(n-1)\")"
   ]
  },
  {
   "cell_type": "markdown",
   "id": "9f16c64b",
   "metadata": {},
   "source": [
    "D) El octavo termino. Calcule con la forma que estime conveniente"
   ]
  },
  {
   "cell_type": "code",
   "execution_count": 5,
   "id": "83b05270",
   "metadata": {},
   "outputs": [
    {
     "name": "stdout",
     "output_type": "stream",
     "text": [
      "El termino del lugar 8 es: 160.0\n"
     ]
    }
   ],
   "source": [
    "q8 = q1 * r3**(8-1)\n",
    "print(f\"El termino del lugar 8 es: {q8}\")"
   ]
  },
  {
   "cell_type": "markdown",
   "id": "a5bdb7d7",
   "metadata": {},
   "source": [
    "E) ¿Que lugar ocupa en esta sucesion el termino \"20480\"? Use logaritmo."
   ]
  },
  {
   "cell_type": "code",
   "execution_count": 6,
   "id": "8ea31a64",
   "metadata": {},
   "outputs": [
    {
     "name": "stdout",
     "output_type": "stream",
     "text": [
      "El termino 20480 ocupa el lugar: 15.00\n"
     ]
    }
   ],
   "source": [
    "n = math.log(20480/q1, r3) +1\n",
    "print(f\"El termino 20480 ocupa el lugar: {n:.2f}\") # el :.2f es para que solo muestre 2 decimales"
   ]
  },
  {
   "cell_type": "markdown",
   "id": "c2723e54",
   "metadata": {},
   "source": [
    "2) En un experimento de laboratorio, se coloca una bacteria en un ambiente propicio para su reproducción. Se sabe que cada hora la población de bacterias se duplica debido a las condiciones ideales. Inicialmente, había 10 bacterias."
   ]
  },
  {
   "cell_type": "markdown",
   "id": "edd8882f",
   "metadata": {},
   "source": [
    "A) ¿Cuál es el valor que se considera como “r” (Razón Constante)?"
   ]
  },
  {
   "cell_type": "code",
   "execution_count": 7,
   "id": "bda3c231",
   "metadata": {},
   "outputs": [
    {
     "name": "stdout",
     "output_type": "stream",
     "text": [
      "La razon constante es: 2.0\n"
     ]
    }
   ],
   "source": [
    "q1 = 10\n",
    "q2 = 20\n",
    "r = q2/q1\n",
    "print(f\"La razon constante es: {r}\")"
   ]
  },
  {
   "cell_type": "markdown",
   "id": "a1802770",
   "metadata": {},
   "source": [
    "B) calcula cuantas bacterias habra en 3 horas"
   ]
  },
  {
   "cell_type": "code",
   "execution_count": 8,
   "id": "c446b0e7",
   "metadata": {},
   "outputs": [
    {
     "name": "stdout",
     "output_type": "stream",
     "text": [
      "En 3 horas habra 40.0 bacterias\n"
     ]
    }
   ],
   "source": [
    "n = 3\n",
    "q3 = q1 * r**(n-1)\n",
    "print(f\"En {n} horas habra {q3} bacterias\")"
   ]
  },
  {
   "cell_type": "markdown",
   "id": "9d5e9191",
   "metadata": {},
   "source": [
    "C) ¿En cuántas horas la población de bacterias será de al menos 640?"
   ]
  },
  {
   "cell_type": "code",
   "execution_count": 9,
   "id": "2cb0b850",
   "metadata": {},
   "outputs": [
    {
     "name": "stdout",
     "output_type": "stream",
     "text": [
      "En 7.00 horas la poblacion de bacterias sera de al menos 640\n"
     ]
    }
   ],
   "source": [
    "n = math.log(640/q1, r) +1\n",
    "print(f\"En {n:.2f} horas la poblacion de bacterias sera de al menos 640\")"
   ]
  },
  {
   "cell_type": "markdown",
   "id": "ebbcfd5e",
   "metadata": {},
   "source": [
    "3) La tasa de crecimiento aumenta en un 2% anual."
   ]
  },
  {
   "cell_type": "markdown",
   "id": "a462d802",
   "metadata": {},
   "source": [
    "A) ¿Cuál es el valor que se considera como “r” (Razón Constante)?"
   ]
  },
  {
   "cell_type": "code",
   "execution_count": 10,
   "id": "90fe3b38",
   "metadata": {},
   "outputs": [
    {
     "name": "stdout",
     "output_type": "stream",
     "text": [
      "La razon constante es: 1.02\n"
     ]
    }
   ],
   "source": [
    "r = 102/100\n",
    "print(f\"La razon constante es: {r}\")"
   ]
  },
  {
   "cell_type": "markdown",
   "id": "52871afe",
   "metadata": {},
   "source": [
    "4) La tasa de la población disminuye en un 2% anual."
   ]
  },
  {
   "cell_type": "markdown",
   "id": "4e99f257",
   "metadata": {},
   "source": [
    "A) ¿Cuál es el valor de la razon constante?"
   ]
  },
  {
   "cell_type": "code",
   "execution_count": 11,
   "id": "10694cc3",
   "metadata": {},
   "outputs": [
    {
     "name": "stdout",
     "output_type": "stream",
     "text": [
      "La razon constante es: 0.98\n"
     ]
    }
   ],
   "source": [
    "r = 98/100\n",
    "print(f\"La razon constante es: {r}\")"
   ]
  },
  {
   "cell_type": "markdown",
   "id": "24087eb9",
   "metadata": {},
   "source": [
    "5) Rodrigo tiene 7 años y comenzó a ahorrar dinero en su alcancía. En el primer día depositó $50, y cada día posterior aumentó en $30 la cantidad que ahorraba."
   ]
  },
  {
   "cell_type": "markdown",
   "id": "19c63ec2",
   "metadata": {},
   "source": [
    "A) ¿Cuánto dinero tiene al octavo día?"
   ]
  },
  {
   "cell_type": "code",
   "execution_count": 12,
   "id": "37095d96",
   "metadata": {},
   "outputs": [
    {
     "name": "stdout",
     "output_type": "stream",
     "text": [
      "Al octavo dia tiene 260 pesos\n"
     ]
    }
   ],
   "source": [
    "q1 = 50\n",
    "r = 30\n",
    "n = 8\n",
    "q8 = q1 + r*(n-1)\n",
    "print(f\"Al octavo dia tiene {q8} pesos\")"
   ]
  },
  {
   "cell_type": "markdown",
   "id": "a92625b0",
   "metadata": {},
   "source": [
    "B) ¿Cuántos días necesitará María para tener $500?"
   ]
  },
  {
   "cell_type": "code",
   "execution_count": 13,
   "id": "afb3a513",
   "metadata": {},
   "outputs": [
    {
     "name": "stdout",
     "output_type": "stream",
     "text": [
      "Rodrigo necesitara 16.00 dias para tener 500 pesos\n"
     ]
    }
   ],
   "source": [
    "q1 = 50\n",
    "r = 30\n",
    "q500 = 500\n",
    "n = (q500 - q1)/r +1\n",
    "print(f\"Rodrigo necesitara {n:.2f} dias para tener 500 pesos\")"
   ]
  },
  {
   "cell_type": "markdown",
   "id": "6425e3f2",
   "metadata": {},
   "source": [
    "6) Supongamos que tienes una inversión inicial de $10.000 en una cuenta de ahorros con una tasa de interés el cual aumenta del 10% mensual. ¿Calcular cuánto dinero tienes en el sexto mes?"
   ]
  },
  {
   "cell_type": "code",
   "execution_count": 14,
   "id": "28f81530",
   "metadata": {},
   "outputs": [
    {
     "name": "stdout",
     "output_type": "stream",
     "text": [
      "En el sexto mes tendra 16105.10 pesos\n"
     ]
    }
   ],
   "source": [
    "q1 = 10000\n",
    "r = 110/100\n",
    "n = 6\n",
    "q6 = q1 * r**(n-1)\n",
    "print(f\"En el sexto mes tendra {q6:.2f} pesos\")"
   ]
  },
  {
   "cell_type": "markdown",
   "id": "8ddefe3c",
   "metadata": {},
   "source": [
    "7) Dado los siguientes tres términos de una sucesión numérica 3; 5.4; 9.72; determinar si es una progresión aritmética o geométrica y encuentra el vigésimo término."
   ]
  },
  {
   "cell_type": "markdown",
   "id": "66b2109d",
   "metadata": {},
   "source": [
    "(DATO AQUI TENGO DUDAS CON LA PROGRESION GEOMETRICA)"
   ]
  },
  {
   "cell_type": "code",
   "execution_count": 15,
   "id": "ebe42bfe",
   "metadata": {},
   "outputs": [
    {
     "name": "stdout",
     "output_type": "stream",
     "text": [
      "Es una progresion geometrica (True, 1.8)\n",
      "El vigesimo termino es: 212470.60\n"
     ]
    }
   ],
   "source": [
    "\n",
    "q1 = 3\n",
    "r = 5.4/3\n",
    "n = 20\n",
    "print(f\"Es una progresion geometrica {5.4/3 == 9.72/5.4, r}\")\n",
    "q20 = q1 * r**(n-1)\n",
    "\n",
    "print(f\"El vigesimo termino es: {q20:.2f}\")"
   ]
  },
  {
   "cell_type": "code",
   "execution_count": null,
   "id": "1e0aa627",
   "metadata": {},
   "outputs": [],
   "source": []
  }
 ],
 "metadata": {
  "kernelspec": {
   "display_name": "Python 3 (ipykernel)",
   "language": "python",
   "name": "python3"
  },
  "language_info": {
   "codemirror_mode": {
    "name": "ipython",
    "version": 3
   },
   "file_extension": ".py",
   "mimetype": "text/x-python",
   "name": "python",
   "nbconvert_exporter": "python",
   "pygments_lexer": "ipython3",
   "version": "3.10.9"
  }
 },
 "nbformat": 4,
 "nbformat_minor": 5
}
