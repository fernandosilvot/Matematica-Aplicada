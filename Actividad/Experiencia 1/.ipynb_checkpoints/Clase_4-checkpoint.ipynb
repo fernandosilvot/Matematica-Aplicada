{
 "cells": [
  {
   "cell_type": "markdown",
   "metadata": {},
   "source": [
    "hola, para hacer la funcion de logaritmos necesitamos importar la libreria math como lo hice abajo"
   ]
  },
  {
   "cell_type": "code",
   "execution_count": 1,
   "metadata": {},
   "outputs": [],
   "source": [
    "import math"
   ]
  },
  {
   "cell_type": "markdown",
   "metadata": {},
   "source": [
    "Ejercicio 1: considere la sucesion geometrica: 4,6,9,... determine"
   ]
  },
  {
   "cell_type": "markdown",
   "metadata": {},
   "source": [
    "A) la razon geometrica"
   ]
  },
  {
   "cell_type": "code",
   "execution_count": 2,
   "metadata": {},
   "outputs": [
    {
     "name": "stdout",
     "output_type": "stream",
     "text": [
      "La razon geometrica es: 1.5\n"
     ]
    }
   ],
   "source": [
    "q1 = 4\n",
    "q2 = 6\n",
    "r = q2/q1\n",
    "print(f\"La razon geometrica es: {r}\")"
   ]
  },
  {
   "cell_type": "markdown",
   "metadata": {},
   "source": [
    "B) la expresion del termino de lugar \"n\""
   ]
  },
  {
   "cell_type": "markdown",
   "metadata": {},
   "source": [
    "lo hice asi para mostrar las variables deeterminadas arriba "
   ]
  },
  {
   "cell_type": "code",
   "execution_count": 3,
   "metadata": {},
   "outputs": [
    {
     "name": "stdout",
     "output_type": "stream",
     "text": [
      "Qn = 4 * 1.5**(n-1)\n"
     ]
    }
   ],
   "source": [
    "print(f\"Qn = {q1} * {r}**(n-1)\")"
   ]
  },
  {
   "cell_type": "markdown",
   "metadata": {},
   "source": [
    "C) el termino del lugar 60"
   ]
  },
  {
   "cell_type": "code",
   "execution_count": 4,
   "metadata": {},
   "outputs": [
    {
     "name": "stdout",
     "output_type": "stream",
     "text": [
      "El termino del lugar 60 es: 98049249911.8214\n"
     ]
    }
   ],
   "source": [
    "q60 = q1 * r**(60-1)\n",
    "print(f\"El termino del lugar 60 es: {q60}\")"
   ]
  },
  {
   "cell_type": "markdown",
   "metadata": {},
   "source": [
    "D) ¿Que lugar  ocupa en esta sucesion el termino \"68.34375\"?"
   ]
  },
  {
   "cell_type": "code",
   "execution_count": 5,
   "metadata": {},
   "outputs": [
    {
     "name": "stdout",
     "output_type": "stream",
     "text": [
      "El termino 68.34375 ocupa el lugar: 8.00\n"
     ]
    }
   ],
   "source": [
    "n = math.log(68.34375/q1, r) +1\n",
    "print(f\"El termino 68.34375 ocupa el lugar: {n:.2f}\")# el :.2f es para que solo muestre 2 decimales"
   ]
  },
  {
   "cell_type": "markdown",
   "metadata": {},
   "source": [
    "Ejercicio 2: El tercer termino de una sucesion geometrica es 5  y el sexto termino es de 40. determine"
   ]
  },
  {
   "cell_type": "markdown",
   "metadata": {},
   "source": [
    "A) La razon geometrica"
   ]
  },
  {
   "cell_type": "code",
   "execution_count": null,
   "metadata": {},
   "outputs": [],
   "source": []
  },
  {
   "cell_type": "markdown",
   "metadata": {},
   "source": [
    "B) El primer termino"
   ]
  },
  {
   "cell_type": "code",
   "execution_count": null,
   "metadata": {},
   "outputs": [],
   "source": []
  },
  {
   "cell_type": "markdown",
   "metadata": {},
   "source": [
    "C) La expresion del termino de lugar \"n\""
   ]
  },
  {
   "cell_type": "code",
   "execution_count": null,
   "metadata": {},
   "outputs": [],
   "source": []
  },
  {
   "cell_type": "markdown",
   "metadata": {},
   "source": [
    "D) El octavo termino. Calcule con la forma que estime conveniente"
   ]
  },
  {
   "cell_type": "code",
   "execution_count": null,
   "metadata": {},
   "outputs": [],
   "source": []
  },
  {
   "cell_type": "markdown",
   "metadata": {},
   "source": [
    "E) ¿Que lugar ocupa en esta sucesion el termino \"20480\"? Use logaritmo. "
   ]
  },
  {
   "cell_type": "code",
   "execution_count": null,
   "metadata": {},
   "outputs": [],
   "source": []
  },
  {
   "cell_type": "markdown",
   "metadata": {},
   "source": [
    "Ejercicio 3: Hector,padre de matias, decidio ahorrar dinero por cada cumpleaños de su hijo. si el primer año ahorro 100 pesos, el segundo año ahorro 210 pesos, el tercer año ahorro 441 pesos, y asi durante los demas cumpleaños.¿cuanto dinero habra ahorrado hector cuando matias cumpla 18 años?"
   ]
  },
  {
   "cell_type": "code",
   "execution_count": 6,
   "metadata": {},
   "outputs": [
    {
     "name": "stdout",
     "output_type": "stream",
     "text": [
      "La razon geometrica es: 2.1\n",
      "Qn = 100 * 2.1**(n-1)\n",
      "El termino del lugar 18 es: 30041942.495081715\n"
     ]
    }
   ],
   "source": [
    "q1 = 100\n",
    "q2 = 210\n",
    "r = q2/q1\n",
    "print(f\"La razon geometrica es: {r}\")\n",
    "print(f\"Qn = {q1} * {r}**(n-1)\")\n",
    "q18 = q1 * r**(18-1)\n",
    "print(f\"El termino del lugar 18 es: {q18}\")"
   ]
  }
 ],
 "metadata": {
  "kernelspec": {
   "display_name": "Python 3 (ipykernel)",
   "language": "python",
   "name": "python3"
  },
  "language_info": {
   "codemirror_mode": {
    "name": "ipython",
    "version": 3
   },
   "file_extension": ".py",
   "mimetype": "text/x-python",
   "name": "python",
   "nbconvert_exporter": "python",
   "pygments_lexer": "ipython3",
   "version": "3.10.9"
  }
 },
 "nbformat": 4,
 "nbformat_minor": 2
}
