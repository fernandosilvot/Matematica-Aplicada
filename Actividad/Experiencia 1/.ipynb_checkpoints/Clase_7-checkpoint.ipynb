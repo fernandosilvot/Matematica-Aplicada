{
 "cells": [
  {
   "cell_type": "markdown",
   "id": "09bcbde3",
   "metadata": {},
   "source": [
    "Ejemplo 1"
   ]
  },
  {
   "cell_type": "markdown",
   "id": "0ee6921d",
   "metadata": {},
   "source": [
    "Calcular La Sumatoria 250 ∑ i=1 (18.5 +2.5i)"
   ]
  },
  {
   "cell_type": "markdown",
   "id": "01d810d4",
   "metadata": {},
   "source": [
    "#Formula aritmetrica (n/2)*(2*a1+(n-1)*d)  "
   ]
  },
  {
   "cell_type": "code",
   "execution_count": 1,
   "id": "34113c3b",
   "metadata": {},
   "outputs": [
    {
     "name": "stdout",
     "output_type": "stream",
     "text": [
      "250 ∑ i=1 (18.5 + 2.5i)\n",
      ">> 82437.5 o aproximado 82438\n"
     ]
    }
   ],
   "source": [
    "a = 18.5\n",
    "d = 2.5\n",
    "n = 250\n",
    "print(f\"250 ∑ i=1 (18.5 + 2.5i)\\n>> {n/2*(2*a+(n-1)*d)} o aproximado {n/2*(a+a+(n-1)*d):.0f}\") "
   ]
  },
  {
   "cell_type": "markdown",
   "id": "b1037a6a",
   "metadata": {},
   "source": [
    "Ejemplo 2"
   ]
  },
  {
   "cell_type": "markdown",
   "id": "7d63d56e",
   "metadata": {},
   "source": []
  }
 ],
 "metadata": {
  "kernelspec": {
   "display_name": "Python 3 (ipykernel)",
   "language": "python",
   "name": "python3"
  },
  "language_info": {
   "codemirror_mode": {
    "name": "ipython",
    "version": 3
   },
   "file_extension": ".py",
   "mimetype": "text/x-python",
   "name": "python",
   "nbconvert_exporter": "python",
   "pygments_lexer": "ipython3",
   "version": "3.10.9"
  }
 },
 "nbformat": 4,
 "nbformat_minor": 5
}
